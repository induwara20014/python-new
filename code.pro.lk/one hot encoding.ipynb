{
 "cells": [
  {
   "cell_type": "code",
   "id": "initial_id",
   "metadata": {
    "collapsed": true,
    "ExecuteTime": {
     "end_time": "2025-08-31T17:25:32.851454Z",
     "start_time": "2025-08-31T17:25:32.455896Z"
    }
   },
   "source": [
    "import pandas as pd\n",
    "data = pd.read_csv(\"student.csv\")\n",
    "data['result']"
   ],
   "outputs": [
    {
     "data": {
      "text/plain": [
       "0      Pass\n",
       "1      Fail\n",
       "2      Pass\n",
       "3      Pass\n",
       "4    Absent\n",
       "5      Fail\n",
       "6      Fail\n",
       "7      Pass\n",
       "8      Pass\n",
       "9    Absent\n",
       "Name: result, dtype: object"
      ]
     },
     "execution_count": 1,
     "metadata": {},
     "output_type": "execute_result"
    }
   ],
   "execution_count": 1
  },
  {
   "metadata": {
    "ExecuteTime": {
     "end_time": "2025-08-31T17:27:22.807159Z",
     "start_time": "2025-08-31T17:27:22.803591Z"
    }
   },
   "cell_type": "code",
   "source": "result_category = data['result']",
   "id": "54b306110cbdbd8a",
   "outputs": [],
   "execution_count": 2
  },
  {
   "metadata": {
    "ExecuteTime": {
     "end_time": "2025-08-31T17:29:35.889451Z",
     "start_time": "2025-08-31T17:29:34.764775Z"
    }
   },
   "cell_type": "code",
   "source": [
    "from sklearn.preprocessing import LabelEncoder\n",
    "obj = LabelEncoder()\n",
    "result = obj.fit_transform(result_category)"
   ],
   "id": "afef3d27543b5704",
   "outputs": [],
   "execution_count": 3
  },
  {
   "metadata": {
    "ExecuteTime": {
     "end_time": "2025-08-31T17:29:40.093232Z",
     "start_time": "2025-08-31T17:29:40.087059Z"
    }
   },
   "cell_type": "code",
   "source": "result",
   "id": "b9d3a8539f7cbbd2",
   "outputs": [
    {
     "data": {
      "text/plain": [
       "array([2, 1, 2, 2, 0, 1, 1, 2, 2, 0])"
      ]
     },
     "execution_count": 4,
     "metadata": {},
     "output_type": "execute_result"
    }
   ],
   "execution_count": 4
  },
  {
   "metadata": {
    "ExecuteTime": {
     "end_time": "2025-08-31T17:35:02.511167Z",
     "start_time": "2025-08-31T17:35:02.499537Z"
    }
   },
   "cell_type": "code",
   "source": [
    "from sklearn.preprocessing import LabelBinarizer\n",
    "obj = LabelBinarizer()\n",
    "result = obj.fit_transform(result_category)"
   ],
   "id": "b085b5c356ec1ded",
   "outputs": [],
   "execution_count": 7
  },
  {
   "metadata": {
    "ExecuteTime": {
     "end_time": "2025-08-31T17:35:06.962664Z",
     "start_time": "2025-08-31T17:35:06.955630Z"
    }
   },
   "cell_type": "code",
   "source": "result",
   "id": "71c18d3dcc006230",
   "outputs": [
    {
     "data": {
      "text/plain": [
       "array([[0, 0, 1],\n",
       "       [0, 1, 0],\n",
       "       [0, 0, 1],\n",
       "       [0, 0, 1],\n",
       "       [1, 0, 0],\n",
       "       [0, 1, 0],\n",
       "       [0, 1, 0],\n",
       "       [0, 0, 1],\n",
       "       [0, 0, 1],\n",
       "       [1, 0, 0]])"
      ]
     },
     "execution_count": 8,
     "metadata": {},
     "output_type": "execute_result"
    }
   ],
   "execution_count": 8
  },
  {
   "metadata": {
    "ExecuteTime": {
     "end_time": "2025-08-31T17:37:24.420614Z",
     "start_time": "2025-08-31T17:37:24.414126Z"
    }
   },
   "cell_type": "code",
   "source": "obj.classes_",
   "id": "2559530707433ab5",
   "outputs": [
    {
     "data": {
      "text/plain": [
       "array(['Absent', 'Fail', 'Pass'], dtype='<U6')"
      ]
     },
     "execution_count": 10,
     "metadata": {},
     "output_type": "execute_result"
    }
   ],
   "execution_count": 10
  },
  {
   "metadata": {},
   "cell_type": "code",
   "outputs": [],
   "execution_count": null,
   "source": "",
   "id": "6b6ff26faeba1a7b"
  }
 ],
 "metadata": {
  "kernelspec": {
   "display_name": "Python 3",
   "language": "python",
   "name": "python3"
  },
  "language_info": {
   "codemirror_mode": {
    "name": "ipython",
    "version": 2
   },
   "file_extension": ".py",
   "mimetype": "text/x-python",
   "name": "python",
   "nbconvert_exporter": "python",
   "pygments_lexer": "ipython2",
   "version": "2.7.6"
  }
 },
 "nbformat": 4,
 "nbformat_minor": 5
}
