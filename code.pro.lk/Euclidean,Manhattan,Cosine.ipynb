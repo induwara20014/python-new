{
 "cells": [
  {
   "cell_type": "code",
   "id": "initial_id",
   "metadata": {
    "collapsed": true,
    "ExecuteTime": {
     "end_time": "2025-10-11T05:32:53.542088Z",
     "start_time": "2025-10-11T05:32:53.538088Z"
    }
   },
   "source": [
    "A = (5,3)\n",
    "B = (2,4)"
   ],
   "outputs": [],
   "execution_count": 1
  },
  {
   "metadata": {
    "ExecuteTime": {
     "end_time": "2025-10-11T05:32:56.810256Z",
     "start_time": "2025-10-11T05:32:56.806045Z"
    }
   },
   "cell_type": "code",
   "source": "from scipy.spatial import distance",
   "id": "30fa6697f9b456e7",
   "outputs": [],
   "execution_count": 2
  },
  {
   "metadata": {
    "ExecuteTime": {
     "end_time": "2025-10-11T05:33:58.802187Z",
     "start_time": "2025-10-11T05:33:58.796087Z"
    }
   },
   "cell_type": "code",
   "source": [
    "#Euclidean Distance\n",
    "\n",
    "d = distance.euclidean(A,B)\n",
    "print(d)"
   ],
   "id": "4aad368779fe7a05",
   "outputs": [
    {
     "name": "stdout",
     "output_type": "stream",
     "text": [
      "3.1622776601683795\n"
     ]
    }
   ],
   "execution_count": 3
  },
  {
   "metadata": {
    "ExecuteTime": {
     "end_time": "2025-10-11T05:35:36.953145Z",
     "start_time": "2025-10-11T05:35:36.946847Z"
    }
   },
   "cell_type": "code",
   "source": [
    "# Manhattan Distance\n",
    "\n",
    "d = distance.cityblock(A,B)\n",
    "print(d)"
   ],
   "id": "17463f9161778b75",
   "outputs": [
    {
     "name": "stdout",
     "output_type": "stream",
     "text": [
      "4\n"
     ]
    }
   ],
   "execution_count": 4
  },
  {
   "metadata": {
    "ExecuteTime": {
     "end_time": "2025-10-11T05:37:22.486088Z",
     "start_time": "2025-10-11T05:37:22.480617Z"
    }
   },
   "cell_type": "code",
   "source": [
    "# Cosine Distance\n",
    "\n",
    "d = distance.cosine(A,B)\n",
    "print(d)"
   ],
   "id": "3262c4b89908e14d",
   "outputs": [
    {
     "name": "stdout",
     "output_type": "stream",
     "text": [
      "0.15633851226789253\n"
     ]
    }
   ],
   "execution_count": 5
  },
  {
   "metadata": {},
   "cell_type": "code",
   "outputs": [],
   "execution_count": null,
   "source": "",
   "id": "52e58be0d3e27824"
  }
 ],
 "metadata": {
  "kernelspec": {
   "display_name": "Python 3",
   "language": "python",
   "name": "python3"
  },
  "language_info": {
   "codemirror_mode": {
    "name": "ipython",
    "version": 2
   },
   "file_extension": ".py",
   "mimetype": "text/x-python",
   "name": "python",
   "nbconvert_exporter": "python",
   "pygments_lexer": "ipython2",
   "version": "2.7.6"
  }
 },
 "nbformat": 4,
 "nbformat_minor": 5
}
