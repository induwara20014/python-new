{
 "cells": [
  {
   "cell_type": "code",
   "id": "initial_id",
   "metadata": {
    "collapsed": true,
    "ExecuteTime": {
     "end_time": "2025-10-20T06:35:37.337984Z",
     "start_time": "2025-10-20T06:35:37.334624Z"
    }
   },
   "source": [
    "import numpy as np\n",
    "import pandas as pd"
   ],
   "outputs": [],
   "execution_count": 1
  },
  {
   "metadata": {
    "ExecuteTime": {
     "end_time": "2025-10-20T06:37:11.384784Z",
     "start_time": "2025-10-20T06:37:11.357741Z"
    }
   },
   "cell_type": "code",
   "source": "data = pd.read_csv('Kyphosis.csv')",
   "id": "79b3fd949a32df8e",
   "outputs": [],
   "execution_count": 2
  },
  {
   "metadata": {
    "ExecuteTime": {
     "end_time": "2025-10-20T06:37:22.704084Z",
     "start_time": "2025-10-20T06:37:22.688963Z"
    }
   },
   "cell_type": "code",
   "source": "data.sample(5)",
   "id": "efab0a6bb393cd20",
   "outputs": [
    {
     "data": {
      "text/plain": [
       "   Kyphosis  Age  Number  Start\n",
       "33   absent  112       3     16\n",
       "59   absent  102       3     13\n",
       "6    absent   61       2     17\n",
       "32   absent  130       5     13\n",
       "49   absent  177       2     14"
      ],
      "text/html": [
       "<div>\n",
       "<style scoped>\n",
       "    .dataframe tbody tr th:only-of-type {\n",
       "        vertical-align: middle;\n",
       "    }\n",
       "\n",
       "    .dataframe tbody tr th {\n",
       "        vertical-align: top;\n",
       "    }\n",
       "\n",
       "    .dataframe thead th {\n",
       "        text-align: right;\n",
       "    }\n",
       "</style>\n",
       "<table border=\"1\" class=\"dataframe\">\n",
       "  <thead>\n",
       "    <tr style=\"text-align: right;\">\n",
       "      <th></th>\n",
       "      <th>Kyphosis</th>\n",
       "      <th>Age</th>\n",
       "      <th>Number</th>\n",
       "      <th>Start</th>\n",
       "    </tr>\n",
       "  </thead>\n",
       "  <tbody>\n",
       "    <tr>\n",
       "      <th>33</th>\n",
       "      <td>absent</td>\n",
       "      <td>112</td>\n",
       "      <td>3</td>\n",
       "      <td>16</td>\n",
       "    </tr>\n",
       "    <tr>\n",
       "      <th>59</th>\n",
       "      <td>absent</td>\n",
       "      <td>102</td>\n",
       "      <td>3</td>\n",
       "      <td>13</td>\n",
       "    </tr>\n",
       "    <tr>\n",
       "      <th>6</th>\n",
       "      <td>absent</td>\n",
       "      <td>61</td>\n",
       "      <td>2</td>\n",
       "      <td>17</td>\n",
       "    </tr>\n",
       "    <tr>\n",
       "      <th>32</th>\n",
       "      <td>absent</td>\n",
       "      <td>130</td>\n",
       "      <td>5</td>\n",
       "      <td>13</td>\n",
       "    </tr>\n",
       "    <tr>\n",
       "      <th>49</th>\n",
       "      <td>absent</td>\n",
       "      <td>177</td>\n",
       "      <td>2</td>\n",
       "      <td>14</td>\n",
       "    </tr>\n",
       "  </tbody>\n",
       "</table>\n",
       "</div>"
      ]
     },
     "execution_count": 3,
     "metadata": {},
     "output_type": "execute_result"
    }
   ],
   "execution_count": 3
  },
  {
   "metadata": {
    "ExecuteTime": {
     "end_time": "2025-10-20T06:38:29.183585Z",
     "start_time": "2025-10-20T06:38:29.178603Z"
    }
   },
   "cell_type": "code",
   "source": [
    "x = data.drop('Kyphosis', axis=1)\n",
    "y = data['Kyphosis']"
   ],
   "id": "32251ac7d2441b87",
   "outputs": [],
   "execution_count": 4
  },
  {
   "metadata": {
    "ExecuteTime": {
     "end_time": "2025-10-20T06:38:32.409262Z",
     "start_time": "2025-10-20T06:38:32.402702Z"
    }
   },
   "cell_type": "code",
   "source": "y",
   "id": "86dd6e6fa3c0e851",
   "outputs": [
    {
     "data": {
      "text/plain": [
       "0      absent\n",
       "1      absent\n",
       "2     present\n",
       "3      absent\n",
       "4      absent\n",
       "       ...   \n",
       "76    present\n",
       "77     absent\n",
       "78     absent\n",
       "79    present\n",
       "80     absent\n",
       "Name: Kyphosis, Length: 81, dtype: object"
      ]
     },
     "execution_count": 5,
     "metadata": {},
     "output_type": "execute_result"
    }
   ],
   "execution_count": 5
  },
  {
   "metadata": {
    "ExecuteTime": {
     "end_time": "2025-10-20T06:43:13.342096Z",
     "start_time": "2025-10-20T06:43:13.336875Z"
    }
   },
   "cell_type": "code",
   "source": [
    "x = data.drop('Kyphosis',axis=1)\n",
    "y = data['Kyphosis']"
   ],
   "id": "32d9d03df3bb2774",
   "outputs": [],
   "execution_count": 6
  },
  {
   "metadata": {
    "ExecuteTime": {
     "end_time": "2025-10-20T06:43:55.876898Z",
     "start_time": "2025-10-20T06:43:55.870852Z"
    }
   },
   "cell_type": "code",
   "source": "y.value_counts()",
   "id": "71adf27d5e35a0d5",
   "outputs": [
    {
     "data": {
      "text/plain": [
       "Kyphosis\n",
       "absent     64\n",
       "present    17\n",
       "Name: count, dtype: int64"
      ]
     },
     "execution_count": 7,
     "metadata": {},
     "output_type": "execute_result"
    }
   ],
   "execution_count": 7
  },
  {
   "metadata": {
    "ExecuteTime": {
     "end_time": "2025-10-20T06:44:45.074820Z",
     "start_time": "2025-10-20T06:44:44.876544Z"
    }
   },
   "cell_type": "code",
   "source": "y.value_counts().plot(kind='bar')",
   "id": "9f4660935ac86a1c",
   "outputs": [
    {
     "data": {
      "text/plain": [
       "<Axes: xlabel='Kyphosis'>"
      ]
     },
     "execution_count": 8,
     "metadata": {},
     "output_type": "execute_result"
    },
    {
     "data": {
      "text/plain": [
       "<Figure size 640x480 with 1 Axes>"
      ],
      "image/png": "[encoded data removed]"
     },
     "metadata": {},
     "output_type": "display_data"
    }
   ],
   "execution_count": 8
  },
  {
   "metadata": {
    "ExecuteTime": {
     "end_time": "2025-10-20T06:46:00.826636Z",
     "start_time": "2025-10-20T06:45:53.911729Z"
    }
   },
   "cell_type": "code",
   "source": "!pip install imbalanced-learn",
   "id": "11df0b26fcf6cb4b",
   "outputs": [
    {
     "name": "stdout",
     "output_type": "stream",
     "text": [
      "Collecting imbalanced-learn\n",
      "  Downloading imbalanced_learn-0.14.0-py3-none-any.whl.metadata (8.8 kB)\n",
      "Requirement already satisfied: numpy<3,>=1.25.2 in c:\\users\\asus\\onedrive\\desktop\\python new\\.venv\\lib\\site-packages (from imbalanced-learn) (2.3.2)\n",
      "Requirement already satisfied: scipy<2,>=1.11.4 in c:\\users\\asus\\onedrive\\desktop\\python new\\.venv\\lib\\site-packages (from imbalanced-learn) (1.16.1)\n",
      "Requirement already satisfied: scikit-learn<2,>=1.4.2 in c:\\users\\asus\\onedrive\\desktop\\python new\\.venv\\lib\\site-packages (from imbalanced-learn) (1.7.1)\n",
      "Requirement already satisfied: joblib<2,>=1.2.0 in c:\\users\\asus\\onedrive\\desktop\\python new\\.venv\\lib\\site-packages (from imbalanced-learn) (1.5.1)\n",
      "Requirement already satisfied: threadpoolctl<4,>=2.0.0 in c:\\users\\asus\\onedrive\\desktop\\python new\\.venv\\lib\\site-packages (from imbalanced-learn) (3.6.0)\n",
      "Downloading imbalanced_learn-0.14.0-py3-none-any.whl (239 kB)\n",
      "Installing collected packages: imbalanced-learn\n",
      "Successfully installed imbalanced-learn-0.14.0\n"
     ]
    },
    {
     "name": "stderr",
     "output_type": "stream",
     "text": [
      "\n",
      "[notice] A new release of pip is available: 25.1.1 -> 25.2\n",
      "[notice] To update, run: python.exe -m pip install --upgrade pip\n"
     ]
    }
   ],
   "execution_count": 9
  },
  {
   "metadata": {},
   "cell_type": "markdown",
   "source": "# Undersampling",
   "id": "24a981b446777965"
  },
  {
   "metadata": {
    "ExecuteTime": {
     "end_time": "2025-10-20T06:49:17.279235Z",
     "start_time": "2025-10-20T06:49:12.482915Z"
    }
   },
   "cell_type": "code",
   "source": [
    "from imblearn.under_sampling import RandomUnderSampler\n",
    "undersample = RandomUnderSampler()\n",
    "x_under,y_under = undersample.fit_resample(x,y)"
   ],
   "id": "10b11ca70b6cdcfc",
   "outputs": [],
   "execution_count": 10
  },
  {
   "metadata": {
    "ExecuteTime": {
     "end_time": "2025-10-20T06:49:40.008875Z",
     "start_time": "2025-10-20T06:49:40.000284Z"
    }
   },
   "cell_type": "code",
   "source": "y_under.value_counts()",
   "id": "6677af4822fc6f01",
   "outputs": [
    {
     "data": {
      "text/plain": [
       "Kyphosis\n",
       "absent     17\n",
       "present    17\n",
       "Name: count, dtype: int64"
      ]
     },
     "execution_count": 11,
     "metadata": {},
     "output_type": "execute_result"
    }
   ],
   "execution_count": 11
  },
  {
   "metadata": {
    "ExecuteTime": {
     "end_time": "2025-10-20T06:51:25.452829Z",
     "start_time": "2025-10-20T06:51:25.384680Z"
    }
   },
   "cell_type": "code",
   "source": "y_under.value_counts().plot(kind='bar')",
   "id": "c26a5629624a4bff",
   "outputs": [
    {
     "data": {
      "text/plain": [
       "<Axes: xlabel='Kyphosis'>"
      ]
     },
     "execution_count": 14,
     "metadata": {},
     "output_type": "execute_result"
    },
    {
     "data": {
      "text/plain": [
       "<Figure size 640x480 with 1 Axes>"
      ],
      "image/png": "[encoded data removed]"
     },
     "metadata": {},
     "output_type": "display_data"
    }
   ],
   "execution_count": 14
  },
  {
   "metadata": {
    "ExecuteTime": {
     "end_time": "2025-10-20T06:51:39.088427Z",
     "start_time": "2025-10-20T06:51:39.083947Z"
    }
   },
   "cell_type": "markdown",
   "source": "# Oversampling",
   "id": "86170dafa1921dd1"
  },
  {
   "metadata": {
    "ExecuteTime": {
     "end_time": "2025-10-20T06:53:52.487333Z",
     "start_time": "2025-10-20T06:53:52.480914Z"
    }
   },
   "cell_type": "code",
   "source": [
    "from imblearn.over_sampling import RandomOverSampler\n",
    "oversample = RandomOverSampler()\n",
    "x_over, y_over = oversample.fit_resample(x,y)"
   ],
   "id": "2b2267ffb12231f5",
   "outputs": [],
   "execution_count": 16
  },
  {
   "metadata": {
    "ExecuteTime": {
     "end_time": "2025-10-20T06:54:19.136399Z",
     "start_time": "2025-10-20T06:54:19.128731Z"
    }
   },
   "cell_type": "code",
   "source": "y_over.value_counts()",
   "id": "e3c46d95c19c693a",
   "outputs": [
    {
     "data": {
      "text/plain": [
       "Kyphosis\n",
       "absent     64\n",
       "present    64\n",
       "Name: count, dtype: int64"
      ]
     },
     "execution_count": 17,
     "metadata": {},
     "output_type": "execute_result"
    }
   ],
   "execution_count": 17
  },
  {
   "metadata": {
    "ExecuteTime": {
     "end_time": "2025-10-20T06:55:05.534772Z",
     "start_time": "2025-10-20T06:55:05.465531Z"
    }
   },
   "cell_type": "code",
   "source": "y_over.value_counts().plot(kind='bar')",
   "id": "2860f8c02fc62dec",
   "outputs": [
    {
     "data": {
      "text/plain": [
       "<Axes: xlabel='Kyphosis'>"
      ]
     },
     "execution_count": 18,
     "metadata": {},
     "output_type": "execute_result"
    },
    {
     "data": {
      "text/plain": [
       "<Figure size 640x480 with 1 Axes>"
      ],
      "image/png": "[encoded data removed]"
     },
     "metadata": {},
     "output_type": "display_data"
    }
   ],
   "execution_count": 18
  },
  {
   "metadata": {},
   "cell_type": "markdown",
   "source": "# SMOTE",
   "id": "7ed26cbe1a8d2f36"
  },
  {
   "metadata": {
    "ExecuteTime": {
     "end_time": "2025-10-20T06:57:41.883265Z",
     "start_time": "2025-10-20T06:57:41.866958Z"
    }
   },
   "cell_type": "code",
   "source": [
    "from imblearn.over_sampling import SMOTE\n",
    "smote = SMOTE()\n",
    "x_smote,y_smote = smote.fit_resample(x,y)"
   ],
   "id": "85b05a422c331dda",
   "outputs": [],
   "execution_count": 21
  },
  {
   "metadata": {
    "ExecuteTime": {
     "end_time": "2025-10-20T06:58:10.655357Z",
     "start_time": "2025-10-20T06:58:10.646228Z"
    }
   },
   "cell_type": "code",
   "source": "y_smote.value_counts()",
   "id": "6cfff2023ddf128",
   "outputs": [
    {
     "data": {
      "text/plain": [
       "Kyphosis\n",
       "absent     64\n",
       "present    64\n",
       "Name: count, dtype: int64"
      ]
     },
     "execution_count": 22,
     "metadata": {},
     "output_type": "execute_result"
    }
   ],
   "execution_count": 22
  },
  {
   "metadata": {
    "ExecuteTime": {
     "end_time": "2025-10-20T06:58:55.165091Z",
     "start_time": "2025-10-20T06:58:55.099042Z"
    }
   },
   "cell_type": "code",
   "source": "y_smote.value_counts().plot(kind='bar')",
   "id": "cab1d397a3c13c0c",
   "outputs": [
    {
     "data": {
      "text/plain": [
       "<Axes: xlabel='Kyphosis'>"
      ]
     },
     "execution_count": 23,
     "metadata": {},
     "output_type": "execute_result"
    },
    {
     "data": {
      "text/plain": [
       "<Figure size 640x480 with 1 Axes>"
      ],
      "image/png": "[encoded data removed]"
     },
     "metadata": {},
     "output_type": "display_data"
    }
   ],
   "execution_count": 23
  },
  {
   "metadata": {},
   "cell_type": "code",
   "outputs": [],
   "execution_count": null,
   "source": "",
   "id": "927418bcff49ab53"
  }
 ],
 "metadata": {
  "kernelspec": {
   "display_name": "Python 3",
   "language": "python",
   "name": "python3"
  },
  "language_info": {
   "codemirror_mode": {
    "name": "ipython",
    "version": 2
   },
   "file_extension": ".py",
   "mimetype": "text/x-python",
   "name": "python",
   "nbconvert_exporter": "python",
   "pygments_lexer": "ipython2",
   "version": "2.7.6"
  }
 },
 "nbformat": 4,
 "nbformat_minor": 5
}
