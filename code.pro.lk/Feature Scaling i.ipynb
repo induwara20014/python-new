{
 "cells": [
  {
   "metadata": {
    "collapsed": true,
    "ExecuteTime": {
     "end_time": "2025-09-01T17:50:16.541129Z",
     "start_time": "2025-09-01T17:50:16.534328Z"
    }
   },
   "cell_type": "code",
   "outputs": [],
   "execution_count": 3,
   "source": [
    "import numpy as np\n",
    "data = np.array([[26,50000],\n",
    "                [29,70000],\n",
    "                [34,55000],\n",
    "                [31,41000]])"
   ],
   "id": "322952d0526bd814"
  },
  {
   "metadata": {},
   "cell_type": "markdown",
   "source": "Normalization",
   "id": "fc1f7bab65a4f21e"
  },
  {
   "metadata": {
    "ExecuteTime": {
     "end_time": "2025-09-01T17:53:14.104481Z",
     "start_time": "2025-09-01T17:53:14.089003Z"
    }
   },
   "cell_type": "code",
   "outputs": [
    {
     "data": {
      "text/plain": [
       "array([[0.        , 0.31034483],\n",
       "       [0.375     , 1.        ],\n",
       "       [1.        , 0.48275862],\n",
       "       [0.625     , 0.        ]])"
      ]
     },
     "execution_count": 7,
     "metadata": {},
     "output_type": "execute_result"
    }
   ],
   "execution_count": 7,
   "source": [
    "from sklearn.preprocessing import MinMaxScaler\n",
    "scaler = MinMaxScaler()\n",
    "scaled_data = scaler.fit_transform(data)\n",
    "scaled_data"
   ],
   "id": "20c05a8689069a97"
  },
  {
   "metadata": {
    "ExecuteTime": {
     "end_time": "2025-09-01T17:56:59.188917Z",
     "start_time": "2025-09-01T17:56:59.184585Z"
    }
   },
   "cell_type": "code",
   "source": "",
   "id": "3fe8691541ece889",
   "outputs": [],
   "execution_count": null
  },
  {
   "metadata": {
    "ExecuteTime": {
     "end_time": "2025-09-01T17:58:32.298312Z",
     "start_time": "2025-09-01T17:58:32.288218Z"
    }
   },
   "cell_type": "code",
   "source": [
    "from sklearn.preprocessing import StandardScaler\n",
    "\n",
    "scaler = StandardScaler()\n",
    "scaled_data = scaler.fit_transform(data)\n",
    "scaled_data"
   ],
   "id": "5dfbc8f632d58148",
   "outputs": [
    {
     "data": {
      "text/plain": [
       "array([[-1.37198868, -0.3805212 ],\n",
       "       [-0.34299717,  1.52208478],\n",
       "       [ 1.37198868,  0.0951303 ],\n",
       "       [ 0.34299717, -1.23669388]])"
      ]
     },
     "execution_count": 10,
     "metadata": {},
     "output_type": "execute_result"
    }
   ],
   "execution_count": 10
  },
  {
   "metadata": {},
   "cell_type": "code",
   "outputs": [],
   "execution_count": null,
   "source": "",
   "id": "dbadc81057ec8506"
  }
 ],
 "metadata": {
  "kernelspec": {
   "display_name": "Python 3",
   "language": "python",
   "name": "python3"
  },
  "language_info": {
   "codemirror_mode": {
    "name": "ipython",
    "version": 2
   },
   "file_extension": ".py",
   "mimetype": "text/x-python",
   "name": "python",
   "nbconvert_exporter": "python",
   "pygments_lexer": "ipython2",
   "version": "2.7.6"
  }
 },
 "nbformat": 4,
 "nbformat_minor": 5
}
