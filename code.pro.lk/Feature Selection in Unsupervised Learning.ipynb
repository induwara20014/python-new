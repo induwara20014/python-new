{
 "cells": [
  {
   "cell_type": "code",
   "id": "initial_id",
   "metadata": {
    "collapsed": true,
    "ExecuteTime": {
     "end_time": "2025-10-22T16:17:58.816960Z",
     "start_time": "2025-10-22T16:17:58.794432Z"
    }
   },
   "source": [
    "import pandas as pd\n",
    "\n",
    "data = pd.DataFrame({'Math':[70,60,40,80,30],\n",
    "                    'chemistry':[60,80,65,55,60],\n",
    "                    'Maths':[70,60,40,80,30],\n",
    "                    'physics':[50,50,50,50,50],\n",
    "                     'General':[70,70,60,60,80]})\n",
    "\n",
    "print(data)"
   ],
   "outputs": [
    {
     "name": "stdout",
     "output_type": "stream",
     "text": [
      "   Math  chemistry  Maths  physics  General\n",
      "0    70         60     70       50       70\n",
      "1    60         80     60       50       70\n",
      "2    40         65     40       50       60\n",
      "3    80         55     80       50       60\n",
      "4    30         60     30       50       80\n"
     ]
    }
   ],
   "execution_count": 2
  },
  {
   "metadata": {},
   "cell_type": "markdown",
   "source": "Variance",
   "id": "b609b5566ee5e5a1"
  },
  {
   "metadata": {
    "ExecuteTime": {
     "end_time": "2025-10-22T16:23:52.725668Z",
     "start_time": "2025-10-22T16:23:52.716519Z"
    }
   },
   "cell_type": "code",
   "source": [
    "from sklearn.feature_selection import VarianceThreshold\n",
    "selector= VarianceThreshold(threshold=0)\n",
    "selected_features = selector.fit_transform(data)"
   ],
   "id": "d70cedcb4b42d60",
   "outputs": [],
   "execution_count": 5
  },
  {
   "metadata": {
    "ExecuteTime": {
     "end_time": "2025-10-22T16:24:06.618245Z",
     "start_time": "2025-10-22T16:24:06.611927Z"
    }
   },
   "cell_type": "code",
   "source": "data = pd.DataFrame(selected_features,columns=selector.get_feature)",
   "id": "d70ba9ab9ea4d92b",
   "outputs": [
    {
     "data": {
      "text/plain": [
       "array([[70, 60, 70, 70],\n",
       "       [60, 80, 60, 70],\n",
       "       [40, 65, 40, 60],\n",
       "       [80, 55, 80, 60],\n",
       "       [30, 60, 30, 80]])"
      ]
     },
     "execution_count": 6,
     "metadata": {},
     "output_type": "execute_result"
    }
   ],
   "execution_count": 6
  },
  {
   "metadata": {},
   "cell_type": "markdown",
   "source": "Correlation",
   "id": "ced821fa30df280"
  },
  {
   "metadata": {
    "ExecuteTime": {
     "end_time": "2025-10-22T17:48:38.347527Z",
     "start_time": "2025-10-22T17:48:38.343613Z"
    }
   },
   "cell_type": "code",
   "source": [
    "import numpy as np\n",
    "import matplotlib.pyplot as plt\n",
    "import seaborn as sns"
   ],
   "id": "909e92c389bae01e",
   "outputs": [],
   "execution_count": 8
  },
  {
   "metadata": {
    "ExecuteTime": {
     "end_time": "2025-10-22T17:49:00.977957Z",
     "start_time": "2025-10-22T17:49:00.956916Z"
    }
   },
   "cell_type": "code",
   "source": [
    "cor = data.corr()\n",
    "cor"
   ],
   "id": "fc394d25a7a11baa",
   "outputs": [
    {
     "data": {
      "text/plain": [
       "               Math  chemistry     Maths  physics   General\n",
       "Math       1.000000  -0.150424  1.000000      NaN -0.489932\n",
       "chemistry -0.150424   1.000000 -0.150424      NaN  0.124274\n",
       "Maths      1.000000  -0.150424  1.000000      NaN -0.489932\n",
       "physics         NaN        NaN       NaN      NaN       NaN\n",
       "General   -0.489932   0.124274 -0.489932      NaN  1.000000"
      ],
      "text/html": [
       "<div>\n",
       "<style scoped>\n",
       "    .dataframe tbody tr th:only-of-type {\n",
       "        vertical-align: middle;\n",
       "    }\n",
       "\n",
       "    .dataframe tbody tr th {\n",
       "        vertical-align: top;\n",
       "    }\n",
       "\n",
       "    .dataframe thead th {\n",
       "        text-align: right;\n",
       "    }\n",
       "</style>\n",
       "<table border=\"1\" class=\"dataframe\">\n",
       "  <thead>\n",
       "    <tr style=\"text-align: right;\">\n",
       "      <th></th>\n",
       "      <th>Math</th>\n",
       "      <th>chemistry</th>\n",
       "      <th>Maths</th>\n",
       "      <th>physics</th>\n",
       "      <th>General</th>\n",
       "    </tr>\n",
       "  </thead>\n",
       "  <tbody>\n",
       "    <tr>\n",
       "      <th>Math</th>\n",
       "      <td>1.000000</td>\n",
       "      <td>-0.150424</td>\n",
       "      <td>1.000000</td>\n",
       "      <td>NaN</td>\n",
       "      <td>-0.489932</td>\n",
       "    </tr>\n",
       "    <tr>\n",
       "      <th>chemistry</th>\n",
       "      <td>-0.150424</td>\n",
       "      <td>1.000000</td>\n",
       "      <td>-0.150424</td>\n",
       "      <td>NaN</td>\n",
       "      <td>0.124274</td>\n",
       "    </tr>\n",
       "    <tr>\n",
       "      <th>Maths</th>\n",
       "      <td>1.000000</td>\n",
       "      <td>-0.150424</td>\n",
       "      <td>1.000000</td>\n",
       "      <td>NaN</td>\n",
       "      <td>-0.489932</td>\n",
       "    </tr>\n",
       "    <tr>\n",
       "      <th>physics</th>\n",
       "      <td>NaN</td>\n",
       "      <td>NaN</td>\n",
       "      <td>NaN</td>\n",
       "      <td>NaN</td>\n",
       "      <td>NaN</td>\n",
       "    </tr>\n",
       "    <tr>\n",
       "      <th>General</th>\n",
       "      <td>-0.489932</td>\n",
       "      <td>0.124274</td>\n",
       "      <td>-0.489932</td>\n",
       "      <td>NaN</td>\n",
       "      <td>1.000000</td>\n",
       "    </tr>\n",
       "  </tbody>\n",
       "</table>\n",
       "</div>"
      ]
     },
     "execution_count": 9,
     "metadata": {},
     "output_type": "execute_result"
    }
   ],
   "execution_count": 9
  },
  {
   "metadata": {
    "ExecuteTime": {
     "end_time": "2025-10-22T17:52:53.776026Z",
     "start_time": "2025-10-22T17:52:53.210182Z"
    }
   },
   "cell_type": "code",
   "source": [
    "plt.figure(figsize=(8,6))\n",
    "sns.heatmap(cor,annot=True, cmap='Wistia')\n",
    "plt.show()"
   ],
   "id": "82b757e62142257b",
   "outputs": [
    {
     "data": {
      "text/plain": [
       "<Figure size 800x600 with 2 Axes>"
      ],
      "image/png": "[encoded data removed]"
     },
     "metadata": {},
     "output_type": "display_data"
    }
   ],
   "execution_count": 10
  },
  {
   "metadata": {
    "ExecuteTime": {
     "end_time": "2025-10-22T17:57:22.790218Z",
     "start_time": "2025-10-22T17:57:22.783357Z"
    }
   },
   "cell_type": "code",
   "source": [
    "corr_features = set()\n",
    "for i in range(len(cor.columns)):\n",
    "    for j in range(i):\n",
    "        if abs(cor.iloc[i,j]) > 0.9:\n",
    "            colname = cor.columns[i]\n",
    "            corr_features.add(colname)"
   ],
   "id": "d9b24735ab9884c1",
   "outputs": [],
   "execution_count": 12
  },
  {
   "metadata": {
    "ExecuteTime": {
     "end_time": "2025-10-22T17:57:34.328614Z",
     "start_time": "2025-10-22T17:57:34.321325Z"
    }
   },
   "cell_type": "code",
   "source": "corr_features",
   "id": "e0f61f8f36eb95ee",
   "outputs": [
    {
     "data": {
      "text/plain": [
       "{'Maths'}"
      ]
     },
     "execution_count": 13,
     "metadata": {},
     "output_type": "execute_result"
    }
   ],
   "execution_count": 13
  },
  {
   "metadata": {
    "ExecuteTime": {
     "end_time": "2025-10-22T17:58:53.231475Z",
     "start_time": "2025-10-22T17:58:53.196070Z"
    }
   },
   "cell_type": "code",
   "source": [
    "data = data.drop(corr_features,axis=1)\n",
    "data"
   ],
   "id": "b6acbcca60a5f6e2",
   "outputs": [
    {
     "data": {
      "text/plain": [
       "   Math  chemistry  physics  General\n",
       "0    70         60       50       70\n",
       "1    60         80       50       70\n",
       "2    40         65       50       60\n",
       "3    80         55       50       60\n",
       "4    30         60       50       80"
      ],
      "text/html": [
       "<div>\n",
       "<style scoped>\n",
       "    .dataframe tbody tr th:only-of-type {\n",
       "        vertical-align: middle;\n",
       "    }\n",
       "\n",
       "    .dataframe tbody tr th {\n",
       "        vertical-align: top;\n",
       "    }\n",
       "\n",
       "    .dataframe thead th {\n",
       "        text-align: right;\n",
       "    }\n",
       "</style>\n",
       "<table border=\"1\" class=\"dataframe\">\n",
       "  <thead>\n",
       "    <tr style=\"text-align: right;\">\n",
       "      <th></th>\n",
       "      <th>Math</th>\n",
       "      <th>chemistry</th>\n",
       "      <th>physics</th>\n",
       "      <th>General</th>\n",
       "    </tr>\n",
       "  </thead>\n",
       "  <tbody>\n",
       "    <tr>\n",
       "      <th>0</th>\n",
       "      <td>70</td>\n",
       "      <td>60</td>\n",
       "      <td>50</td>\n",
       "      <td>70</td>\n",
       "    </tr>\n",
       "    <tr>\n",
       "      <th>1</th>\n",
       "      <td>60</td>\n",
       "      <td>80</td>\n",
       "      <td>50</td>\n",
       "      <td>70</td>\n",
       "    </tr>\n",
       "    <tr>\n",
       "      <th>2</th>\n",
       "      <td>40</td>\n",
       "      <td>65</td>\n",
       "      <td>50</td>\n",
       "      <td>60</td>\n",
       "    </tr>\n",
       "    <tr>\n",
       "      <th>3</th>\n",
       "      <td>80</td>\n",
       "      <td>55</td>\n",
       "      <td>50</td>\n",
       "      <td>60</td>\n",
       "    </tr>\n",
       "    <tr>\n",
       "      <th>4</th>\n",
       "      <td>30</td>\n",
       "      <td>60</td>\n",
       "      <td>50</td>\n",
       "      <td>80</td>\n",
       "    </tr>\n",
       "  </tbody>\n",
       "</table>\n",
       "</div>"
      ]
     },
     "execution_count": 14,
     "metadata": {},
     "output_type": "execute_result"
    }
   ],
   "execution_count": 14
  },
  {
   "metadata": {},
   "cell_type": "code",
   "outputs": [],
   "execution_count": null,
   "source": "",
   "id": "396424a158e7d3e8"
  }
 ],
 "metadata": {
  "kernelspec": {
   "display_name": "Python 3",
   "language": "python",
   "name": "python3"
  },
  "language_info": {
   "codemirror_mode": {
    "name": "ipython",
    "version": 2
   },
   "file_extension": ".py",
   "mimetype": "text/x-python",
   "name": "python",
   "nbconvert_exporter": "python",
   "pygments_lexer": "ipython2",
   "version": "2.7.6"
  }
 },
 "nbformat": 4,
 "nbformat_minor": 5
}
