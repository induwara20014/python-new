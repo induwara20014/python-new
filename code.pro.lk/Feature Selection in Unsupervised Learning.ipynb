{
 "cells": [
  {
   "cell_type": "code",
   "id": "initial_id",
   "metadata": {
    "collapsed": true,
    "ExecuteTime": {
     "end_time": "2025-10-22T18:05:22.536993Z",
     "start_time": "2025-10-22T18:05:22.528462Z"
    }
   },
   "source": [
    "import pandas as pd\n",
    "\n",
    "data = pd.DataFrame({'Math':[70,60,40,80,30],\n",
    "                    'chemistry':[60,80,65,55,60],\n",
    "                    'Maths':[70,60,40,80,30],\n",
    "                    'physics':[50,50,50,50,50],\n",
    "                     'General':[70,70,60,60,80]})\n",
    "\n",
    "print(data)"
   ],
   "outputs": [
    {
     "name": "stdout",
     "output_type": "stream",
     "text": [
      "   Math  chemistry  Maths  physics  General\n",
      "0    70         60     70       50       70\n",
      "1    60         80     60       50       70\n",
      "2    40         65     40       50       60\n",
      "3    80         55     80       50       60\n",
      "4    30         60     30       50       80\n"
     ]
    }
   ],
   "execution_count": 47
  },
  {
   "metadata": {},
   "cell_type": "markdown",
   "source": "Variance",
   "id": "b609b5566ee5e5a1"
  },
  {
   "metadata": {
    "ExecuteTime": {
     "end_time": "2025-10-22T18:05:22.572246Z",
     "start_time": "2025-10-22T18:05:22.564417Z"
    }
   },
   "cell_type": "code",
   "source": [
    "from sklearn.feature_selection import VarianceThreshold\n",
    "selector= VarianceThreshold(threshold=0)\n",
    "selected_features = selector.fit_transform(data)"
   ],
   "id": "d70cedcb4b42d60",
   "outputs": [],
   "execution_count": 48
  },
  {
   "metadata": {
    "ExecuteTime": {
     "end_time": "2025-10-22T18:05:22.601675Z",
     "start_time": "2025-10-22T18:05:22.591253Z"
    }
   },
   "cell_type": "code",
   "source": [
    "data = pd.DataFrame(selected_features,columns=selector.get_feature_names_out())\n",
    "data"
   ],
   "id": "d70ba9ab9ea4d92b",
   "outputs": [
    {
     "data": {
      "text/plain": [
       "   Math  chemistry  Maths  General\n",
       "0    70         60     70       70\n",
       "1    60         80     60       70\n",
       "2    40         65     40       60\n",
       "3    80         55     80       60\n",
       "4    30         60     30       80"
      ],
      "text/html": [
       "<div>\n",
       "<style scoped>\n",
       "    .dataframe tbody tr th:only-of-type {\n",
       "        vertical-align: middle;\n",
       "    }\n",
       "\n",
       "    .dataframe tbody tr th {\n",
       "        vertical-align: top;\n",
       "    }\n",
       "\n",
       "    .dataframe thead th {\n",
       "        text-align: right;\n",
       "    }\n",
       "</style>\n",
       "<table border=\"1\" class=\"dataframe\">\n",
       "  <thead>\n",
       "    <tr style=\"text-align: right;\">\n",
       "      <th></th>\n",
       "      <th>Math</th>\n",
       "      <th>chemistry</th>\n",
       "      <th>Maths</th>\n",
       "      <th>General</th>\n",
       "    </tr>\n",
       "  </thead>\n",
       "  <tbody>\n",
       "    <tr>\n",
       "      <th>0</th>\n",
       "      <td>70</td>\n",
       "      <td>60</td>\n",
       "      <td>70</td>\n",
       "      <td>70</td>\n",
       "    </tr>\n",
       "    <tr>\n",
       "      <th>1</th>\n",
       "      <td>60</td>\n",
       "      <td>80</td>\n",
       "      <td>60</td>\n",
       "      <td>70</td>\n",
       "    </tr>\n",
       "    <tr>\n",
       "      <th>2</th>\n",
       "      <td>40</td>\n",
       "      <td>65</td>\n",
       "      <td>40</td>\n",
       "      <td>60</td>\n",
       "    </tr>\n",
       "    <tr>\n",
       "      <th>3</th>\n",
       "      <td>80</td>\n",
       "      <td>55</td>\n",
       "      <td>80</td>\n",
       "      <td>60</td>\n",
       "    </tr>\n",
       "    <tr>\n",
       "      <th>4</th>\n",
       "      <td>30</td>\n",
       "      <td>60</td>\n",
       "      <td>30</td>\n",
       "      <td>80</td>\n",
       "    </tr>\n",
       "  </tbody>\n",
       "</table>\n",
       "</div>"
      ]
     },
     "execution_count": 49,
     "metadata": {},
     "output_type": "execute_result"
    }
   ],
   "execution_count": 49
  },
  {
   "metadata": {},
   "cell_type": "markdown",
   "source": "Correlation",
   "id": "ced821fa30df280"
  },
  {
   "metadata": {
    "ExecuteTime": {
     "end_time": "2025-10-22T18:05:22.677522Z",
     "start_time": "2025-10-22T18:05:22.673353Z"
    }
   },
   "cell_type": "code",
   "source": [
    "import numpy as np\n",
    "import matplotlib.pyplot as plt\n",
    "import seaborn as sns"
   ],
   "id": "909e92c389bae01e",
   "outputs": [],
   "execution_count": 50
  },
  {
   "metadata": {
    "ExecuteTime": {
     "end_time": "2025-10-22T18:05:22.798133Z",
     "start_time": "2025-10-22T18:05:22.787868Z"
    }
   },
   "cell_type": "code",
   "source": [
    "cor = data.corr()\n",
    "cor"
   ],
   "id": "fc394d25a7a11baa",
   "outputs": [
    {
     "data": {
      "text/plain": [
       "               Math  chemistry     Maths   General\n",
       "Math       1.000000  -0.150424  1.000000 -0.489932\n",
       "chemistry -0.150424   1.000000 -0.150424  0.124274\n",
       "Maths      1.000000  -0.150424  1.000000 -0.489932\n",
       "General   -0.489932   0.124274 -0.489932  1.000000"
      ],
      "text/html": [
       "<div>\n",
       "<style scoped>\n",
       "    .dataframe tbody tr th:only-of-type {\n",
       "        vertical-align: middle;\n",
       "    }\n",
       "\n",
       "    .dataframe tbody tr th {\n",
       "        vertical-align: top;\n",
       "    }\n",
       "\n",
       "    .dataframe thead th {\n",
       "        text-align: right;\n",
       "    }\n",
       "</style>\n",
       "<table border=\"1\" class=\"dataframe\">\n",
       "  <thead>\n",
       "    <tr style=\"text-align: right;\">\n",
       "      <th></th>\n",
       "      <th>Math</th>\n",
       "      <th>chemistry</th>\n",
       "      <th>Maths</th>\n",
       "      <th>General</th>\n",
       "    </tr>\n",
       "  </thead>\n",
       "  <tbody>\n",
       "    <tr>\n",
       "      <th>Math</th>\n",
       "      <td>1.000000</td>\n",
       "      <td>-0.150424</td>\n",
       "      <td>1.000000</td>\n",
       "      <td>-0.489932</td>\n",
       "    </tr>\n",
       "    <tr>\n",
       "      <th>chemistry</th>\n",
       "      <td>-0.150424</td>\n",
       "      <td>1.000000</td>\n",
       "      <td>-0.150424</td>\n",
       "      <td>0.124274</td>\n",
       "    </tr>\n",
       "    <tr>\n",
       "      <th>Maths</th>\n",
       "      <td>1.000000</td>\n",
       "      <td>-0.150424</td>\n",
       "      <td>1.000000</td>\n",
       "      <td>-0.489932</td>\n",
       "    </tr>\n",
       "    <tr>\n",
       "      <th>General</th>\n",
       "      <td>-0.489932</td>\n",
       "      <td>0.124274</td>\n",
       "      <td>-0.489932</td>\n",
       "      <td>1.000000</td>\n",
       "    </tr>\n",
       "  </tbody>\n",
       "</table>\n",
       "</div>"
      ]
     },
     "execution_count": 51,
     "metadata": {},
     "output_type": "execute_result"
    }
   ],
   "execution_count": 51
  },
  {
   "metadata": {
    "ExecuteTime": {
     "end_time": "2025-10-22T18:05:23.296873Z",
     "start_time": "2025-10-22T18:05:22.906411Z"
    }
   },
   "cell_type": "code",
   "source": [
    "plt.figure(figsize=(8,6))\n",
    "sns.heatmap(cor,annot=True, cmap='Wistia')\n",
    "plt.show()"
   ],
   "id": "82b757e62142257b",
   "outputs": [
    {
     "data": {
      "text/plain": [
       "<Figure size 800x600 with 2 Axes>"
      ],
      "image/png": "[encoded data removed]"
     },
     "metadata": {},
     "output_type": "display_data"
    }
   ],
   "execution_count": 52
  },
  {
   "metadata": {
    "ExecuteTime": {
     "end_time": "2025-10-22T18:05:23.405935Z",
     "start_time": "2025-10-22T18:05:23.400111Z"
    }
   },
   "cell_type": "code",
   "source": [
    "corr_features = set()\n",
    "for i in range(len(cor.columns)):\n",
    "    for j in range(i):\n",
    "        if abs(cor.iloc[i,j]) > 0.9:\n",
    "            colname = cor.columns[i]\n",
    "            corr_features.add(colname)"
   ],
   "id": "d9b24735ab9884c1",
   "outputs": [],
   "execution_count": 53
  },
  {
   "metadata": {
    "ExecuteTime": {
     "end_time": "2025-10-22T18:05:23.476631Z",
     "start_time": "2025-10-22T18:05:23.469705Z"
    }
   },
   "cell_type": "code",
   "source": "corr_features",
   "id": "e0f61f8f36eb95ee",
   "outputs": [
    {
     "data": {
      "text/plain": [
       "{'Maths'}"
      ]
     },
     "execution_count": 54,
     "metadata": {},
     "output_type": "execute_result"
    }
   ],
   "execution_count": 54
  },
  {
   "metadata": {
    "ExecuteTime": {
     "end_time": "2025-10-22T18:05:23.540483Z",
     "start_time": "2025-10-22T18:05:23.529905Z"
    }
   },
   "cell_type": "code",
   "source": [
    "data = data.drop(corr_features,axis=1)\n",
    "data"
   ],
   "id": "b6acbcca60a5f6e2",
   "outputs": [
    {
     "data": {
      "text/plain": [
       "   Math  chemistry  General\n",
       "0    70         60       70\n",
       "1    60         80       70\n",
       "2    40         65       60\n",
       "3    80         55       60\n",
       "4    30         60       80"
      ],
      "text/html": [
       "<div>\n",
       "<style scoped>\n",
       "    .dataframe tbody tr th:only-of-type {\n",
       "        vertical-align: middle;\n",
       "    }\n",
       "\n",
       "    .dataframe tbody tr th {\n",
       "        vertical-align: top;\n",
       "    }\n",
       "\n",
       "    .dataframe thead th {\n",
       "        text-align: right;\n",
       "    }\n",
       "</style>\n",
       "<table border=\"1\" class=\"dataframe\">\n",
       "  <thead>\n",
       "    <tr style=\"text-align: right;\">\n",
       "      <th></th>\n",
       "      <th>Math</th>\n",
       "      <th>chemistry</th>\n",
       "      <th>General</th>\n",
       "    </tr>\n",
       "  </thead>\n",
       "  <tbody>\n",
       "    <tr>\n",
       "      <th>0</th>\n",
       "      <td>70</td>\n",
       "      <td>60</td>\n",
       "      <td>70</td>\n",
       "    </tr>\n",
       "    <tr>\n",
       "      <th>1</th>\n",
       "      <td>60</td>\n",
       "      <td>80</td>\n",
       "      <td>70</td>\n",
       "    </tr>\n",
       "    <tr>\n",
       "      <th>2</th>\n",
       "      <td>40</td>\n",
       "      <td>65</td>\n",
       "      <td>60</td>\n",
       "    </tr>\n",
       "    <tr>\n",
       "      <th>3</th>\n",
       "      <td>80</td>\n",
       "      <td>55</td>\n",
       "      <td>60</td>\n",
       "    </tr>\n",
       "    <tr>\n",
       "      <th>4</th>\n",
       "      <td>30</td>\n",
       "      <td>60</td>\n",
       "      <td>80</td>\n",
       "    </tr>\n",
       "  </tbody>\n",
       "</table>\n",
       "</div>"
      ]
     },
     "execution_count": 55,
     "metadata": {},
     "output_type": "execute_result"
    }
   ],
   "execution_count": 55
  },
  {
   "metadata": {
    "ExecuteTime": {
     "end_time": "2025-10-22T18:05:23.621960Z",
     "start_time": "2025-10-22T18:05:23.618313Z"
    }
   },
   "cell_type": "code",
   "source": "",
   "id": "ec9bca315c3552c7",
   "outputs": [],
   "execution_count": null
  }
 ],
 "metadata": {
  "kernelspec": {
   "display_name": "Python 3",
   "language": "python",
   "name": "python3"
  },
  "language_info": {
   "codemirror_mode": {
    "name": "ipython",
    "version": 2
   },
   "file_extension": ".py",
   "mimetype": "text/x-python",
   "name": "python",
   "nbconvert_exporter": "python",
   "pygments_lexer": "ipython2",
   "version": "2.7.6"
  }
 },
 "nbformat": 4,
 "nbformat_minor": 5
}
