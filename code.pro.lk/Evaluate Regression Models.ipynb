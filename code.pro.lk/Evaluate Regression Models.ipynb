{
 "cells": [
  {
   "cell_type": "code",
   "id": "initial_id",
   "metadata": {
    "collapsed": true,
    "ExecuteTime": {
     "end_time": "2025-09-17T16:09:47.547180Z",
     "start_time": "2025-09-17T16:09:42.894230Z"
    }
   },
   "source": [
    "import numpy as np\n",
    "import pandas as pd"
   ],
   "outputs": [],
   "execution_count": 1
  },
  {
   "metadata": {
    "ExecuteTime": {
     "end_time": "2025-09-17T16:09:47.587506Z",
     "start_time": "2025-09-17T16:09:47.574275Z"
    }
   },
   "cell_type": "code",
   "source": [
    "df = pd.DataFrame({\n",
    "    'hours' :[8,11,9,5,7.5,9.5,10,7,9,9.5,8,10.5,9,6.5,9],\n",
    "    'score' :[56,70,51,24,30,66,48,36,42,61,39,87,73,48,46]\n",
    "})"
   ],
   "id": "d070843e8f8dfcc2",
   "outputs": [],
   "execution_count": 2
  },
  {
   "metadata": {
    "ExecuteTime": {
     "end_time": "2025-09-17T16:09:47.613039Z",
     "start_time": "2025-09-17T16:09:47.604255Z"
    }
   },
   "cell_type": "code",
   "source": "y = np.array(df.score.values)",
   "id": "d26262a4d28fab",
   "outputs": [],
   "execution_count": 3
  },
  {
   "metadata": {
    "ExecuteTime": {
     "end_time": "2025-09-17T16:09:47.653605Z",
     "start_time": "2025-09-17T16:09:47.648441Z"
    }
   },
   "cell_type": "code",
   "source": "y_pred = 8 * df.hours.values - 15",
   "id": "e75e359340ee0298",
   "outputs": [],
   "execution_count": 4
  },
  {
   "metadata": {
    "ExecuteTime": {
     "end_time": "2025-09-17T16:09:47.698229Z",
     "start_time": "2025-09-17T16:09:47.684225Z"
    }
   },
   "cell_type": "code",
   "source": "y",
   "id": "e97daac162f88365",
   "outputs": [
    {
     "data": {
      "text/plain": [
       "array([56, 70, 51, 24, 30, 66, 48, 36, 42, 61, 39, 87, 73, 48, 46])"
      ]
     },
     "execution_count": 5,
     "metadata": {},
     "output_type": "execute_result"
    }
   ],
   "execution_count": 5
  },
  {
   "metadata": {
    "ExecuteTime": {
     "end_time": "2025-09-17T16:09:47.814647Z",
     "start_time": "2025-09-17T16:09:47.799424Z"
    }
   },
   "cell_type": "code",
   "source": "y_pred",
   "id": "8acff75a0d72f723",
   "outputs": [
    {
     "data": {
      "text/plain": [
       "array([49., 73., 57., 25., 45., 61., 65., 41., 57., 61., 49., 69., 57.,\n",
       "       37., 57.])"
      ]
     },
     "execution_count": 6,
     "metadata": {},
     "output_type": "execute_result"
    }
   ],
   "execution_count": 6
  },
  {
   "metadata": {},
   "cell_type": "markdown",
   "source": "#Root Mean Squared Error(RMSE)",
   "id": "4cdaf41c84804626"
  },
  {
   "metadata": {
    "ExecuteTime": {
     "end_time": "2025-09-17T16:10:01.130148Z",
     "start_time": "2025-09-17T16:09:47.999541Z"
    }
   },
   "cell_type": "code",
   "source": [
    "from sklearn.metrics import root_mean_squared_error\n",
    "rmse = root_mean_squared_error(y,y_pred)\n",
    "print(f\"Root Mean Squared Error: {rmse}\")"
   ],
   "id": "b193777798f69c78",
   "outputs": [
    {
     "name": "stdout",
     "output_type": "stream",
     "text": [
      "Root Mean Squared Error: 10.972693379476162\n"
     ]
    }
   ],
   "execution_count": 7
  },
  {
   "metadata": {
    "ExecuteTime": {
     "end_time": "2025-08-30T10:09:36.573134Z",
     "start_time": "2025-08-30T10:09:36.568132Z"
    },
    "tags": []
   },
   "cell_type": "markdown",
   "source": "#Mean Absolute Error (MAE)",
   "id": "7a7503816efb535e"
  },
  {
   "metadata": {
    "ExecuteTime": {
     "end_time": "2025-09-17T16:10:02.516391Z",
     "start_time": "2025-09-17T16:10:02.504431Z"
    }
   },
   "cell_type": "code",
   "source": [
    "from sklearn.metrics import mean_absolute_error\n",
    "mae = mean_absolute_error(y,y_pred)\n",
    "print(f\"Mean Absolute Error: {mae}\")"
   ],
   "id": "bf838179465bb726",
   "outputs": [
    {
     "name": "stdout",
     "output_type": "stream",
     "text": [
      "Mean Absolute Error: 9.333333333333334\n"
     ]
    }
   ],
   "execution_count": 8
  },
  {
   "metadata": {},
   "cell_type": "markdown",
   "source": "#R Squared",
   "id": "a24df303bd903f1d"
  },
  {
   "metadata": {
    "ExecuteTime": {
     "end_time": "2025-09-17T16:10:02.688581Z",
     "start_time": "2025-09-17T16:10:02.680540Z"
    }
   },
   "cell_type": "code",
   "source": [
    "from sklearn.metrics import r2_score\n",
    "r2 = r2_score(y,y_pred)\n",
    "print(f\"R2 Score: {r2}\")"
   ],
   "id": "3eef24a20db006e8",
   "outputs": [
    {
     "name": "stdout",
     "output_type": "stream",
     "text": [
      "R2 Score: 0.5642312518096708\n"
     ]
    }
   ],
   "execution_count": 9
  },
  {
   "metadata": {
    "ExecuteTime": {
     "end_time": "2025-09-17T16:10:02.860520Z",
     "start_time": "2025-09-17T16:10:02.856309Z"
    }
   },
   "cell_type": "code",
   "source": "",
   "id": "d9c650bde88c24c5",
   "outputs": [],
   "execution_count": null
  }
 ],
 "metadata": {
  "kernelspec": {
   "display_name": "Python 3",
   "language": "python",
   "name": "python3"
  },
  "language_info": {
   "codemirror_mode": {
    "name": "ipython",
    "version": 2
   },
   "file_extension": ".py",
   "mimetype": "text/x-python",
   "name": "python",
   "nbconvert_exporter": "python",
   "pygments_lexer": "ipython2",
   "version": "2.7.6"
  }
 },
 "nbformat": 4,
 "nbformat_minor": 5
}
