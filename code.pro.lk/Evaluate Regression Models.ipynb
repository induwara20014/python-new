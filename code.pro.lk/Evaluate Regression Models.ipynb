{
 "cells": [
  {
   "cell_type": "code",
   "id": "initial_id",
   "metadata": {
    "collapsed": true,
    "ExecuteTime": {
     "end_time": "2025-08-30T09:46:46.529975Z",
     "start_time": "2025-08-30T09:46:46.526977Z"
    }
   },
   "source": [
    "import numpy as np\n",
    "import pandas as pd"
   ],
   "outputs": [],
   "execution_count": 5
  },
  {
   "metadata": {
    "ExecuteTime": {
     "end_time": "2025-08-30T09:49:35.762599Z",
     "start_time": "2025-08-30T09:49:35.754432Z"
    }
   },
   "cell_type": "code",
   "source": [
    "df = pd.DataFrame({\n",
    "    'hours' :[8,11,9,5,7.5,9.5,10,7,9,9.5,8,10.5,9,6.5,9],\n",
    "    'score' :[56,70,51,24,30,66,48,36,42,61,39,87,73,48,46]\n",
    "})"
   ],
   "id": "d070843e8f8dfcc2",
   "outputs": [],
   "execution_count": 10
  },
  {
   "metadata": {
    "ExecuteTime": {
     "end_time": "2025-08-30T09:47:18.555629Z",
     "start_time": "2025-08-30T09:47:18.551630Z"
    }
   },
   "cell_type": "code",
   "source": "y = np.array(df.score.values)",
   "id": "d26262a4d28fab",
   "outputs": [],
   "execution_count": 7
  },
  {
   "metadata": {
    "ExecuteTime": {
     "end_time": "2025-08-30T09:51:10.528244Z",
     "start_time": "2025-08-30T09:51:10.524284Z"
    }
   },
   "cell_type": "code",
   "source": "y_pred = 8 * df.hours.values - 15",
   "id": "e75e359340ee0298",
   "outputs": [],
   "execution_count": 11
  },
  {
   "metadata": {
    "ExecuteTime": {
     "end_time": "2025-08-30T09:51:15.556016Z",
     "start_time": "2025-08-30T09:51:15.551621Z"
    }
   },
   "cell_type": "code",
   "source": "y",
   "id": "e97daac162f88365",
   "outputs": [
    {
     "data": {
      "text/plain": [
       "array([56, 70, 51, 24, 30, 66, 48, 36, 42, 61, 39, 87, 73, 48, 46])"
      ]
     },
     "execution_count": 12,
     "metadata": {},
     "output_type": "execute_result"
    }
   ],
   "execution_count": 12
  },
  {
   "metadata": {
    "ExecuteTime": {
     "end_time": "2025-08-30T09:51:22.408539Z",
     "start_time": "2025-08-30T09:51:22.401279Z"
    }
   },
   "cell_type": "code",
   "source": "y_pred",
   "id": "8acff75a0d72f723",
   "outputs": [
    {
     "data": {
      "text/plain": [
       "array([49., 73., 57., 25., 45., 61., 65., 41., 57., 61., 49., 69., 57.,\n",
       "       37., 57.])"
      ]
     },
     "execution_count": 13,
     "metadata": {},
     "output_type": "execute_result"
    }
   ],
   "execution_count": 13
  },
  {
   "metadata": {},
   "cell_type": "code",
   "outputs": [],
   "execution_count": null,
   "source": "",
   "id": "26204b0957e96774"
  }
 ],
 "metadata": {
  "kernelspec": {
   "display_name": "Python 3",
   "language": "python",
   "name": "python3"
  },
  "language_info": {
   "codemirror_mode": {
    "name": "ipython",
    "version": 2
   },
   "file_extension": ".py",
   "mimetype": "text/x-python",
   "name": "python",
   "nbconvert_exporter": "python",
   "pygments_lexer": "ipython2",
   "version": "2.7.6"
  }
 },
 "nbformat": 4,
 "nbformat_minor": 5
}
