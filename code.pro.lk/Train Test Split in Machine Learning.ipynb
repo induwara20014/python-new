{
 "cells": [
  {
   "cell_type": "code",
   "id": "initial_id",
   "metadata": {
    "collapsed": true,
    "ExecuteTime": {
     "end_time": "2025-08-30T09:12:45.290441Z",
     "start_time": "2025-08-30T09:12:45.285437Z"
    }
   },
   "source": [
    "import numpy as np\n",
    "from sklearn.model_selection import train_test_split"
   ],
   "outputs": [],
   "execution_count": 21
  },
  {
   "metadata": {
    "ExecuteTime": {
     "end_time": "2025-08-30T09:12:45.308347Z",
     "start_time": "2025-08-30T09:12:45.303959Z"
    }
   },
   "cell_type": "code",
   "source": [
    "x = np.array([1,2,3,4,5,6,7,8,9,10,11,12,13,14,15,16,17,18,19,20])\n",
    "y = np.array([0,0,1,0,1,0,0,0,0,0,1,1,1,0,1,0,1,1,1,1])"
   ],
   "id": "3ff1911617a2d89a",
   "outputs": [],
   "execution_count": 22
  },
  {
   "metadata": {
    "ExecuteTime": {
     "end_time": "2025-08-30T09:12:45.331796Z",
     "start_time": "2025-08-30T09:12:45.328365Z"
    }
   },
   "cell_type": "code",
   "source": "x_train,x_test,y_train,y_test = train_test_split(x,y,test_size = 0.25)",
   "id": "e2304e841cf001c7",
   "outputs": [],
   "execution_count": 23
  },
  {
   "metadata": {
    "ExecuteTime": {
     "end_time": "2025-08-30T09:12:45.346726Z",
     "start_time": "2025-08-30T09:12:45.341307Z"
    }
   },
   "cell_type": "code",
   "source": "x_train",
   "id": "97b941a76e8e80d6",
   "outputs": [
    {
     "data": {
      "text/plain": [
       "array([15, 19, 11,  1,  3,  7, 17, 12, 13, 20,  9,  4,  6,  5,  2])"
      ]
     },
     "execution_count": 24,
     "metadata": {},
     "output_type": "execute_result"
    }
   ],
   "execution_count": 24
  },
  {
   "metadata": {
    "ExecuteTime": {
     "end_time": "2025-08-30T09:12:45.362442Z",
     "start_time": "2025-08-30T09:12:45.355249Z"
    }
   },
   "cell_type": "code",
   "source": "len(x_train)",
   "id": "806aed64186793b6",
   "outputs": [
    {
     "data": {
      "text/plain": [
       "15"
      ]
     },
     "execution_count": 25,
     "metadata": {},
     "output_type": "execute_result"
    }
   ],
   "execution_count": 25
  },
  {
   "metadata": {
    "SqlCellData": {
     "variableName$1": "df_sql1"
    },
    "ExecuteTime": {
     "end_time": "2025-08-30T09:12:45.393965800Z",
     "start_time": "2025-08-30T09:12:45.368957800Z"
    }
   },
   "cell_type": "code",
   "execution_count": null,
   "source": "%%sql\n",
   "id": "f8beea990eae38f9",
   "outputs": []
  },
  {
   "metadata": {
    "ExecuteTime": {
     "end_time": "2025-08-30T09:12:45.413481Z",
     "start_time": "2025-08-30T09:12:45.408482Z"
    }
   },
   "cell_type": "code",
   "source": "len(x_test)",
   "id": "ea094cf936fd4e9b",
   "outputs": [
    {
     "data": {
      "text/plain": [
       "5"
      ]
     },
     "execution_count": 26,
     "metadata": {},
     "output_type": "execute_result"
    }
   ],
   "execution_count": 26
  },
  {
   "metadata": {
    "ExecuteTime": {
     "end_time": "2025-08-30T09:12:45.426817Z",
     "start_time": "2025-08-30T09:12:45.424990Z"
    }
   },
   "cell_type": "code",
   "source": "",
   "id": "550d2dc24770b663",
   "outputs": [],
   "execution_count": null
  }
 ],
 "metadata": {
  "kernelspec": {
   "display_name": "Python 3",
   "language": "python",
   "name": "python3"
  },
  "language_info": {
   "codemirror_mode": {
    "name": "ipython",
    "version": 2
   },
   "file_extension": ".py",
   "mimetype": "text/x-python",
   "name": "python",
   "nbconvert_exporter": "python",
   "pygments_lexer": "ipython2",
   "version": "2.7.6"
  }
 },
 "nbformat": 4,
 "nbformat_minor": 5
}
