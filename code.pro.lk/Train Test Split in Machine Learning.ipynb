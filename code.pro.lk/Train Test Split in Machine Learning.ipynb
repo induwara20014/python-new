{
 "cells": [
  {
   "cell_type": "code",
   "id": "initial_id",
   "metadata": {
    "collapsed": true,
    "ExecuteTime": {
     "end_time": "2025-08-30T09:22:37.446388Z",
     "start_time": "2025-08-30T09:22:37.441808Z"
    }
   },
   "source": [
    "import numpy as np\n",
    "from sklearn.model_selection import train_test_split"
   ],
   "outputs": [],
   "execution_count": 27
  },
  {
   "metadata": {
    "ExecuteTime": {
     "end_time": "2025-08-30T09:22:37.468870Z",
     "start_time": "2025-08-30T09:22:37.465699Z"
    }
   },
   "cell_type": "code",
   "source": [
    "x = np.array([1,2,3,4,5,6,7,8,9,10,11,12,13,14,15,16,17,18,19,20])\n",
    "y = np.array([0,0,1,0,1,0,0,0,0,0,1,1,1,0,1,0,1,1,1,1])"
   ],
   "id": "3ff1911617a2d89a",
   "outputs": [],
   "execution_count": 28
  },
  {
   "metadata": {
    "ExecuteTime": {
     "end_time": "2025-08-30T09:22:37.478377Z",
     "start_time": "2025-08-30T09:22:37.475376Z"
    }
   },
   "cell_type": "code",
   "source": "x_train,x_test,y_train,y_test = train_test_split(x,y,test_size = 0.25)",
   "id": "e2304e841cf001c7",
   "outputs": [],
   "execution_count": 29
  },
  {
   "metadata": {
    "ExecuteTime": {
     "end_time": "2025-08-30T09:22:37.489639Z",
     "start_time": "2025-08-30T09:22:37.484636Z"
    }
   },
   "cell_type": "code",
   "source": "x_train",
   "id": "97b941a76e8e80d6",
   "outputs": [
    {
     "data": {
      "text/plain": [
       "array([ 5,  8, 19,  1, 15, 18,  2, 17,  6, 13, 12, 10,  9, 20,  7])"
      ]
     },
     "execution_count": 30,
     "metadata": {},
     "output_type": "execute_result"
    }
   ],
   "execution_count": 30
  },
  {
   "metadata": {
    "ExecuteTime": {
     "end_time": "2025-08-30T09:22:37.501799Z",
     "start_time": "2025-08-30T09:22:37.497799Z"
    }
   },
   "cell_type": "code",
   "source": "len(x_train)",
   "id": "806aed64186793b6",
   "outputs": [
    {
     "data": {
      "text/plain": [
       "15"
      ]
     },
     "execution_count": 31,
     "metadata": {},
     "output_type": "execute_result"
    }
   ],
   "execution_count": 31
  },
  {
   "metadata": {
    "ExecuteTime": {
     "end_time": "2025-08-30T09:52:22.151190Z",
     "start_time": "2025-08-30T09:52:22.144370Z"
    }
   },
   "cell_type": "code",
   "source": "len(x_test)",
   "id": "ea094cf936fd4e9b",
   "outputs": [
    {
     "data": {
      "text/plain": [
       "5"
      ]
     },
     "execution_count": 33,
     "metadata": {},
     "output_type": "execute_result"
    }
   ],
   "execution_count": 33
  }
 ],
 "metadata": {
  "kernelspec": {
   "display_name": "Python 3",
   "language": "python",
   "name": "python3"
  },
  "language_info": {
   "codemirror_mode": {
    "name": "ipython",
    "version": 2
   },
   "file_extension": ".py",
   "mimetype": "text/x-python",
   "name": "python",
   "nbconvert_exporter": "python",
   "pygments_lexer": "ipython2",
   "version": "2.7.6"
  }
 },
 "nbformat": 4,
 "nbformat_minor": 5
}
